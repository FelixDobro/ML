{
 "cells": [
  {
   "cell_type": "code",
   "id": "initial_id",
   "metadata": {
    "collapsed": true,
    "ExecuteTime": {
     "end_time": "2025-10-15T10:23:43.750888Z",
     "start_time": "2025-10-15T10:23:33.163134Z"
    }
   },
   "source": [
    "from xmlrpc.client import DateTime\n",
    "\n",
    "import pandas as pd\n",
    "import numpy as np\n",
    "import glob\n",
    "\n",
    "from fontTools.misc.bezierTools import namedtuple\n",
    "from torch.cuda import device\n",
    "\n",
    "input_files = glob.glob('data/train/input*.csv')\n",
    "output_files = glob.glob('data/train/output*.csv')\n",
    "\n",
    "input_df = pd.concat((pd.read_csv(f) for f in input_files), ignore_index=True)\n",
    "output_df = pd.concat((pd.read_csv(f) for f in output_files), ignore_index=True)\n",
    "\n",
    "pd.set_option('display.max_columns', None)\n",
    "\n"
   ],
   "outputs": [],
   "execution_count": 12
  },
  {
   "metadata": {
    "ExecuteTime": {
     "end_time": "2025-10-15T10:23:48.323928Z",
     "start_time": "2025-10-15T10:23:43.753586Z"
    }
   },
   "cell_type": "code",
   "source": [
    "## Redefining columns\n",
    "\n",
    "one_hot_columsns = [\"play_direction\", \"player_position\", \"player_side\", \"player_role\"]\n",
    "input_df = pd.get_dummies(input_df, columns=one_hot_columsns)\n",
    "input_df = input_df.sort_values([\"game_id\", \"play_id\", \"nfl_id\", \"frame_id\"])\n",
    "output_df = output_df.sort_values([\"game_id\", \"play_id\", \"nfl_id\", \"frame_id\"])"
   ],
   "id": "db9146b7bbd33e19",
   "outputs": [],
   "execution_count": 13
  },
  {
   "metadata": {
    "ExecuteTime": {
     "end_time": "2025-10-15T10:23:50.935878Z",
     "start_time": "2025-10-15T10:23:48.325684Z"
    }
   },
   "cell_type": "code",
   "source": [
    "## Transforming input data\n",
    "\n",
    "\n",
    "\n",
    "## Age\n",
    "\n",
    "year = 2025\n",
    "input_df[\"player_birth_date\"] = pd.to_datetime(input_df[\"player_birth_date\"])\n",
    "input_df[\"age\"] = 2025 - input_df[\"player_birth_date\"].dt.year\n",
    "\n",
    "## Height to meters\n",
    "\n",
    "def foot_to_meters(x:str):\n",
    "    x = x.replace(\"-\",\".\")\n",
    "    meters = float(x) * 0.3048\n",
    "    return meters\n",
    "\n",
    "input_df[\"player_height\"] = input_df[\"player_height\"].apply(foot_to_meters)\n",
    "input_df[\"player_height\"] = pd.to_numeric(input_df[\"player_height\"])\n",
    "\n",
    "## Defining feature columns\n",
    "\n",
    "feature_columns = []\n",
    "for c in input_df.columns:\n",
    "    for columns in one_hot_columsns:\n",
    "        if c.startswith(columns) and c not in one_hot_columsns:\n",
    "            feature_columns.append(c)\n",
    "feature_columns.append(\"absolute_yardline_number\")\n",
    "feature_columns.append(\"player_height\")\n",
    "feature_columns.append(\"player_weight\")\n",
    "feature_columns.append(\"age\")\n",
    "feature_columns.append(\"x\")\n",
    "feature_columns.append(\"y\")\n",
    "feature_columns.append(\"s\")\n",
    "feature_columns.append(\"a\")\n",
    "feature_columns.append(\"dir\")\n",
    "feature_columns.append(\"o\")\n",
    "feature_columns.append(\"ball_land_x\")\n",
    "feature_columns.append(\"ball_land_y\")\n",
    "\n",
    "label_columns = [\"x\", \"y\"]"
   ],
   "id": "d56ea52941082d65",
   "outputs": [],
   "execution_count": 14
  },
  {
   "metadata": {
    "ExecuteTime": {
     "end_time": "2025-10-15T11:37:56.865276Z",
     "start_time": "2025-10-15T11:37:56.324990Z"
    }
   },
   "cell_type": "code",
   "source": [
    "sequence_groups = [\"game_id\", \"play_id\"]\n",
    "groups_input = input_df.groupby(sequence_groups)\n",
    "groups_output = output_df.groupby(sequence_groups)\n",
    "max_input_sequence = groups_input.size().max()\n",
    "max_output_sequence = groups_output.size().max()"
   ],
   "id": "7594da35b7515c0e",
   "outputs": [],
   "execution_count": 95
  },
  {
   "metadata": {},
   "cell_type": "code",
   "outputs": [],
   "execution_count": null,
   "source": [
    "## Extracting sequences in shape of [total_sequences, len_sequences, vector_length]\n",
    "\n",
    "\n",
    "feature_dim = len(feature_columns)\n",
    "out_dim = len(label_columns)\n",
    "\n",
    "input_sequences = []\n",
    "output_sequences = []\n",
    "\n",
    "i = 0\n",
    "for group, frame in groups_input:\n",
    "    frame.sort_values([\"frame_id\"])\n",
    "    i += 1\n",
    "    if i % 1000 == 0:\n",
    "        print(i)\n",
    "    input_sequence = frame[feature_columns].to_numpy(dtype=np.float32)\n",
    "    i\n",
    "    output_sequence = group[label_columns].to_numpy(dtype=np.float32)\n",
    "    input_sequences.append(input_sequence)\n",
    "    output_sequences.append(output_sequence)"
   ],
   "id": "d53cc8bf73998a50"
  },
  {
   "metadata": {
    "ExecuteTime": {
     "end_time": "2025-10-15T11:37:04.039102Z",
     "start_time": "2025-10-15T11:37:04.016560Z"
    }
   },
   "cell_type": "code",
   "source": "example = list(groups_input.groups)[0]",
   "id": "a59a8fd37de26ff7",
   "outputs": [],
   "execution_count": 91
  },
  {
   "metadata": {
    "ExecuteTime": {
     "end_time": "2025-10-15T11:37:04.053889Z",
     "start_time": "2025-10-15T11:37:04.041721Z"
    }
   },
   "cell_type": "code",
   "source": "example",
   "id": "5880eb4d665a86df",
   "outputs": [
    {
     "data": {
      "text/plain": [
       "(2023090700, 101, 1)"
      ]
     },
     "execution_count": 92,
     "metadata": {},
     "output_type": "execute_result"
    }
   ],
   "execution_count": 92
  },
  {
   "metadata": {
    "ExecuteTime": {
     "end_time": "2025-10-15T11:37:05.255427Z",
     "start_time": "2025-10-15T11:37:04.053889Z"
    }
   },
   "cell_type": "code",
   "source": "player_traj = groups_input.get_group(example).sort_values([\"player_to_predict\"], ascending=False).sort_values(\"frame_id\", ascending=True)",
   "id": "c0893bd5c05ec2d",
   "outputs": [],
   "execution_count": 93
  },
  {
   "metadata": {
    "ExecuteTime": {
     "end_time": "2025-10-15T11:45:21.877778Z",
     "start_time": "2025-10-15T11:45:21.859054Z"
    }
   },
   "cell_type": "code",
   "source": "groups = input_df.groupby(sequence_groups, sort=False)",
   "id": "e635db132963598a",
   "outputs": [],
   "execution_count": 100
  },
  {
   "metadata": {},
   "cell_type": "code",
   "outputs": [],
   "execution_count": 101,
   "source": "player_traj = [group.to_numpy() for _, group in groups_input]",
   "id": "afbd0a64eede7ba9"
  },
  {
   "metadata": {
    "ExecuteTime": {
     "end_time": "2025-10-15T11:46:49.578994Z",
     "start_time": "2025-10-15T11:46:49.570339Z"
    }
   },
   "cell_type": "code",
   "source": "player_traj[0].shape",
   "id": "a7c622ccf55c245e",
   "outputs": [
    {
     "data": {
      "text/plain": [
       "(234, 47)"
      ]
     },
     "execution_count": 104,
     "metadata": {},
     "output_type": "execute_result"
    }
   ],
   "execution_count": 104
  },
  {
   "metadata": {
    "ExecuteTime": {
     "end_time": "2025-10-15T11:32:31.042298Z",
     "start_time": "2025-10-15T11:32:31.021628Z"
    }
   },
   "cell_type": "code",
   "source": "groups_output.get_group(example).v",
   "id": "c323f77e08781e10",
   "outputs": [
    {
     "data": {
      "text/plain": [
       "       game_id  play_id  nfl_id  frame_id      x      y\n",
       "42  2023090700      101   44930         1  53.20  13.98\n",
       "0   2023090700      101   46137         1  56.22  17.28\n",
       "21  2023090700      101   52546         1  47.94  12.12"
      ],
      "text/html": [
       "<div>\n",
       "<style scoped>\n",
       "    .dataframe tbody tr th:only-of-type {\n",
       "        vertical-align: middle;\n",
       "    }\n",
       "\n",
       "    .dataframe tbody tr th {\n",
       "        vertical-align: top;\n",
       "    }\n",
       "\n",
       "    .dataframe thead th {\n",
       "        text-align: right;\n",
       "    }\n",
       "</style>\n",
       "<table border=\"1\" class=\"dataframe\">\n",
       "  <thead>\n",
       "    <tr style=\"text-align: right;\">\n",
       "      <th></th>\n",
       "      <th>game_id</th>\n",
       "      <th>play_id</th>\n",
       "      <th>nfl_id</th>\n",
       "      <th>frame_id</th>\n",
       "      <th>x</th>\n",
       "      <th>y</th>\n",
       "    </tr>\n",
       "  </thead>\n",
       "  <tbody>\n",
       "    <tr>\n",
       "      <th>42</th>\n",
       "      <td>2023090700</td>\n",
       "      <td>101</td>\n",
       "      <td>44930</td>\n",
       "      <td>1</td>\n",
       "      <td>53.20</td>\n",
       "      <td>13.98</td>\n",
       "    </tr>\n",
       "    <tr>\n",
       "      <th>0</th>\n",
       "      <td>2023090700</td>\n",
       "      <td>101</td>\n",
       "      <td>46137</td>\n",
       "      <td>1</td>\n",
       "      <td>56.22</td>\n",
       "      <td>17.28</td>\n",
       "    </tr>\n",
       "    <tr>\n",
       "      <th>21</th>\n",
       "      <td>2023090700</td>\n",
       "      <td>101</td>\n",
       "      <td>52546</td>\n",
       "      <td>1</td>\n",
       "      <td>47.94</td>\n",
       "      <td>12.12</td>\n",
       "    </tr>\n",
       "  </tbody>\n",
       "</table>\n",
       "</div>"
      ]
     },
     "execution_count": 78,
     "metadata": {},
     "output_type": "execute_result"
    }
   ],
   "execution_count": 78
  }
 ],
 "metadata": {
  "kernelspec": {
   "display_name": "Python 3",
   "language": "python",
   "name": "python3"
  },
  "language_info": {
   "codemirror_mode": {
    "name": "ipython",
    "version": 2
   },
   "file_extension": ".py",
   "mimetype": "text/x-python",
   "name": "python",
   "nbconvert_exporter": "python",
   "pygments_lexer": "ipython2",
   "version": "2.7.6"
  }
 },
 "nbformat": 4,
 "nbformat_minor": 5
}
